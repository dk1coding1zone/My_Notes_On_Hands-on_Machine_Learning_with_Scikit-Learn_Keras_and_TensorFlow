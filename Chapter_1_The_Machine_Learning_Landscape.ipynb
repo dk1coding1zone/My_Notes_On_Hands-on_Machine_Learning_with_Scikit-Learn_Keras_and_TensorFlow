{
  "nbformat": 4,
  "nbformat_minor": 0,
  "metadata": {
    "colab": {
      "provenance": []
    },
    "kernelspec": {
      "name": "python3",
      "display_name": "Python 3"
    },
    "language_info": {
      "name": "python"
    }
  },
  "cells": [
    {
      "cell_type": "markdown",
      "source": [
        "# The Machine Learning Landscape"
      ],
      "metadata": {
        "id": "7KdrR4qOZ1xp"
      }
    },
    {
      "cell_type": "markdown",
      "source": [
        "### What Is Machine Learning?\n",
        "\n",
        "* Machine Learning is the field of study that gives computers the ability to learn\n",
        "without being explicitly programmed."
      ],
      "metadata": {
        "id": "ybSSaC7eZ5o9"
      }
    },
    {
      "cell_type": "markdown",
      "source": [
        "Example :\n",
        "\n",
        "your spam filter is a Machine Learning program that can learn to flag\n",
        "spam given examples of spam emails (e.g., flagged by users)"
      ],
      "metadata": {
        "id": "qTZ_TlHbb44f"
      }
    },
    {
      "cell_type": "markdown",
      "source": [
        "Note : The examples that the system uses to learn are\n",
        "called the training set. Each training example is called a training instance (or sample).\n"
      ],
      "metadata": {
        "id": "0dCCw_LXboUL"
      }
    },
    {
      "cell_type": "markdown",
      "source": [
        "### Types of Machine Learning Systems"
      ],
      "metadata": {
        "id": "JnnOgvTSbpfi"
      }
    },
    {
      "cell_type": "markdown",
      "source": [
        "There are so many different types of Machine Learning systems that it is useful to\n",
        "classify them in broad categories based on:"
      ],
      "metadata": {
        "id": "z0ssKGBtd_mb"
      }
    },
    {
      "cell_type": "markdown",
      "source": [
        "1. Whether or not they are trained with human supervision (supervised, unsuper‐\n",
        "vised, semisupervised, and Reinforcement Learning)"
      ],
      "metadata": {
        "id": "D7mjRXU9eItm"
      }
    },
    {
      "cell_type": "markdown",
      "source": [
        "2. Whether or not they can learn incrementally on the fly (online versus batch\n",
        "learning)\n"
      ],
      "metadata": {
        "id": "IB8_dskMia3E"
      }
    },
    {
      "cell_type": "markdown",
      "source": [
        "3. Whether they work by simply comparing new data points to known data points,\n",
        "or instead detect patterns in the training data and build a predictive model, much\n",
        "like scientists do (instance-based versus model-based learning)"
      ],
      "metadata": {
        "id": "5X1tLElcl1sR"
      }
    },
    {
      "cell_type": "markdown",
      "source": [
        "### Supervised learning"
      ],
      "metadata": {
        "id": "h2PVTMfypdpX"
      }
    },
    {
      "cell_type": "markdown",
      "source": [
        "In supervised learning, the training data you feed to the algorithm includes the desired\n",
        "solutions, called labels"
      ],
      "metadata": {
        "id": "8eFsd7zjOpU-"
      }
    },
    {
      "cell_type": "markdown",
      "source": [
        "Example :\n",
        "\n",
        "The spam filter is a good example\n",
        "of this: it is trained with many example emails along with their class (spam or ham),\n",
        "and it must learn how to classify new emails."
      ],
      "metadata": {
        "id": "Piuw1ZSRPJN-"
      }
    },
    {
      "cell_type": "markdown",
      "source": [
        "Some of the most important supervised learning algorithms are :"
      ],
      "metadata": {
        "id": "LEaBPpI2PSYm"
      }
    },
    {
      "cell_type": "markdown",
      "source": [
        "* k-Nearest Neighbors\n",
        "* Linear Regression\n",
        "* Logistic Regression\n",
        "* Support Vector Machines (SVMs)\n",
        "* Decision Trees and Random Forests\n",
        "* Neural networks"
      ],
      "metadata": {
        "id": "9QpKYQyxPi8B"
      }
    },
    {
      "cell_type": "markdown",
      "source": [
        "### Unsupervised learning"
      ],
      "metadata": {
        "id": "A0PIlCkCP2Lh"
      }
    },
    {
      "cell_type": "markdown",
      "source": [
        "In unsupervised learning, as you might guess, the training data is unlabeled\n",
        ".The system tries to learn without a teacher."
      ],
      "metadata": {
        "id": "RbwLvtZGQBjH"
      }
    },
    {
      "cell_type": "markdown",
      "source": [
        "Some of the most important unsupervised learning algorithms are :"
      ],
      "metadata": {
        "id": "JDt6q4OLQUzw"
      }
    },
    {
      "cell_type": "markdown",
      "source": [
        "* Clustering\n",
        "\n",
        "— K-Means\n",
        "\n",
        "— DBSCAN\n",
        "\n",
        "— Hierarchical Cluster Analysis (HCA)\n",
        "\n",
        "* Anomaly detection and novelty detection\n",
        "\n",
        "— One-class SVM\n",
        "\n",
        "— Isolation Forest\n",
        "\n",
        "* Visualization and dimensionality reduction\n",
        "\n",
        "— Principal Component Analysis (PCA)\n",
        "\n",
        "— Kernel PCA\n",
        "\n",
        "— Locally-Linear Embedding (LLE)\n",
        "\n",
        "— t-distributed Stochastic Neighbor\n",
        "Embedding (t-SNE)\n",
        "\n",
        "* Association rule learning\n",
        "\n",
        "— Apriori\n",
        "\n",
        "— Eclat\n"
      ],
      "metadata": {
        "id": "R5ei2gwCQYiZ"
      }
    },
    {
      "cell_type": "markdown",
      "source": [
        "Example :\n",
        "\n",
        " Say you have a lot of data about your blog’s visitors. You may want to\n",
        "run a clustering algorithm to try to detect groups of similar visitors\n",
        "as :\n",
        "notice that 40% of your visitors\n",
        "are males who love comic books and generally read your blog in the evening, while\n",
        "20% are young sci-fi lovers"
      ],
      "metadata": {
        "id": "sNebybOaRASd"
      }
    },
    {
      "cell_type": "markdown",
      "source": [
        "Bonus :\n",
        "\n",
        " * Another important unsupervised task is anomaly detection—for example, detect‐\n",
        "ing unusual credit card transactions to prevent fraud, catching manufacturing defects\n",
        "\n",
        "* Another common unsupervised task is association rule learning, suppose you own a supermarket. Running an association rule\n",
        "on your sales logs may reveal that people who purchase barbecue sauce and potato\n",
        "chips also tend to buy steak"
      ],
      "metadata": {
        "id": "VUg_MROKTDlP"
      }
    },
    {
      "cell_type": "markdown",
      "source": [
        "Note :\n",
        "\n",
        " It is often a good idea to try to reduce the dimension of your train‐\n",
        "ing data using a dimensionality reduction algorithm before you\n",
        "feed it to a Machine Learning algorithm"
      ],
      "metadata": {
        "id": "yK0S-wBPR-bB"
      }
    },
    {
      "cell_type": "markdown",
      "source": [
        "### Semisupervised learning"
      ],
      "metadata": {
        "id": "V4hi0NcAT6RV"
      }
    },
    {
      "cell_type": "markdown",
      "source": [
        "Some algorithms can deal with partially labeled training data, usually a lot of unla‐\n",
        "beled data and a little bit of labeled data. This is called semisupervised learning"
      ],
      "metadata": {
        "id": "D1wJ7vfHT9DN"
      }
    },
    {
      "cell_type": "markdown",
      "source": [
        "Example :\n",
        "\n",
        "Google Photos, are good examples of this. Once\n",
        "you upload all your family photos to the service, it automatically recognizes that the\n",
        "same person A shows up in photos 1, 5, and 11, while another person B shows up in\n",
        "photos 2, 5, and 7. This is the unsupervised part of the algorithm (clustering). Now all\n",
        "the system needs is for you to tell it who these people are. Just one label per person,4\n",
        "and it is able to name everyone in every photo, which is useful for searching photos."
      ],
      "metadata": {
        "id": "rfdKS-Z_UAXI"
      }
    },
    {
      "cell_type": "markdown",
      "source": [
        "### Reinforcement Learning\n"
      ],
      "metadata": {
        "id": "imSYAkDJVkPZ"
      }
    },
    {
      "cell_type": "markdown",
      "source": [
        "The learning system, called an agent\n",
        "in this context, can observe the environment, select and perform actions, and get\n",
        "rewards in return (or penalties in the form of negative rewards, . It\n",
        "must then learn by itself what is the best strategy, called a policy, to get the most\n",
        "reward over time. A policy defines what action the agent should choose when it is in a\n",
        "given situation.\n"
      ],
      "metadata": {
        "id": "XltwmmMwVoOQ"
      }
    },
    {
      "cell_type": "markdown",
      "source": [
        "Example :\n",
        "\n",
        "Many robots implement Reinforcement Learning algorithms to learn\n",
        "how to walk"
      ],
      "metadata": {
        "id": "H2Lo-2cmV6vm"
      }
    },
    {
      "cell_type": "markdown",
      "source": [
        "### Batch and Online Learning"
      ],
      "metadata": {
        "id": "Wk8iRqOcWeR3"
      }
    },
    {
      "cell_type": "markdown",
      "source": [
        "#### Batch learning"
      ],
      "metadata": {
        "id": "5HIPNXcjWtMG"
      }
    },
    {
      "cell_type": "markdown",
      "source": [
        "* In batch learning, the system is incapable of learning incrementally, it must be trained\n",
        "using all the available data.\n",
        "\n",
        "* First the system is trained, and then it is launched into production and runs without learning anymore; it just applies what it has learned. This is called offline learning."
      ],
      "metadata": {
        "id": "O5PQEiU-XliX"
      }
    },
    {
      "cell_type": "markdown",
      "source": [
        "Note :\n",
        "\n",
        "If you want a batch learning system to know about new data (such as a new type of\n",
        "spam), you need to train a new version of the system from scratch on the full dataset\n",
        "(not just the new data, but also the old data), then stop the old system and replace it\n",
        "with the new one."
      ],
      "metadata": {
        "id": "vmwhF4l6X7Rd"
      }
    },
    {
      "cell_type": "markdown",
      "source": [
        "#### Online learning"
      ],
      "metadata": {
        "id": "eNxL0V6lY5sx"
      }
    },
    {
      "cell_type": "markdown",
      "source": [
        "* In online learning, you train the system incrementally by feeding it data instances\n",
        "sequentially, either individually or by small groups called mini-batches.\n",
        "\n",
        "* Each learning\n",
        "step is fast and cheap, so the system can learn about new data on the fly, as it arrives."
      ],
      "metadata": {
        "id": "HkEb3WBJY9wZ"
      }
    },
    {
      "cell_type": "markdown",
      "source": [
        "Example :\n",
        "\n",
        "Online learning is great for systems that receive data as a continuous flow (e.g., stock\n",
        "prices) and need to adapt to change rapidly or autonomously."
      ],
      "metadata": {
        "id": "BBlrvPeeaHyB"
      }
    },
    {
      "cell_type": "markdown",
      "source": [
        "Note :\n",
        "\n",
        "A big challenge with online learning is that if bad data is fed to the system, the sys‐\n",
        "tem’s performance will gradually decline.\n",
        "\n",
        "* To reduce this risk, you need to monitor your system closely and promptly\n",
        "switch learning off (and possibly revert to a previously working state) if you detect a\n",
        "drop in performance"
      ],
      "metadata": {
        "id": "_VWZ3DcSanmg"
      }
    },
    {
      "cell_type": "markdown",
      "source": [
        "### Instance-Based Versus Model-Based Learning"
      ],
      "metadata": {
        "id": "OzFHUo_-a3Ez"
      }
    },
    {
      "cell_type": "markdown",
      "source": [
        "#### Instance-based learning"
      ],
      "metadata": {
        "id": "P8D3ctiNbtbY"
      }
    },
    {
      "cell_type": "markdown",
      "source": [
        "* Possibly the most trivial form of learning is simply to learn by heart.\n",
        "\n",
        "Example :\n",
        "\n",
        "Instead of just flagging emails that are identical to known spam emails, your spam\n",
        "filter could be programmed to also flag emails that are very similar to known spam emails. This requires a measure of similarity between two emails. A (very basic) simi‐larity measure between two emails could be to count the number of words they have\n",
        "in common."
      ],
      "metadata": {
        "id": "PFzlUhD_bv5u"
      }
    },
    {
      "cell_type": "markdown",
      "source": [
        "#### Model-based learning\n"
      ],
      "metadata": {
        "id": "kSR7vtjgcsJR"
      }
    },
    {
      "cell_type": "markdown",
      "source": [
        "Another way to generalize from a set of examples is to build a model of these exam‐\n",
        "ples, then use that model to make predictions. This is called model-based learning"
      ],
      "metadata": {
        "id": "uk7RGeUscxg7"
      }
    },
    {
      "cell_type": "markdown",
      "source": [
        "### Comparison Table\n",
        "\n",
        "#### supervised, unsuper‐ vised, semisupervised, and Reinforcement Learning\n",
        "\n",
        "|Criteria|\tSupervised ML|\tUnsupervised ML|\tReinforcement ML|\n",
        "|---------|-------------|------------------|--------------------|\n",
        "Definition|\tLearns by using labelled data\t|Trained using unlabelled data without any guidance.|\tWorks on interacting with the environment\n",
        "Type of data|\tLabelled data|\tUnlabelled data\t|No – predefined data\n",
        "Type of problems|\tRegression and classification|\tAssociation and Clustering|\tExploitation or Exploration\n",
        "Supervision\t|Extra supervision|\tNo supervision|\tNo supervision\n",
        "Algorithms|\tLinear Regression, Logistic Regression, SVM, KNN etc.|K – Means,C–Means, Apriori|\tQ – Learning,SARSA\n",
        "Aim\t|Calculate outcomes|\tDiscover underlying patterns|\tLearn a series of action\n",
        "Application|\tRisk Evaluation, Forecast Sales\t|Recommendation System, Anomaly |Detection\tSelf Driving Cars, Gaming, Healthcare"
      ],
      "metadata": {
        "id": "PTLh9ifedER-"
      }
    },
    {
      "cell_type": "markdown",
      "source": [
        "#### online versus batch learning\n",
        "\n",
        "|Criteria| Online machine learning|Batch machine learning\n",
        "|--------|--------------------------|----------------------|\n",
        "Complexity|\tMore complex because the model keeps evolving over time as more data becomes available.|\tLess complex because the model is fed with more consistent data sets periodically\n",
        "Computational power|\tMore computational power is required because of the continuous feed of data that leads to continuous refinement.\t|Fewer computational power is needed because data is delivered in batches; the model isn’t continuously refining itself.\n",
        "Use in production|\tHarder to implement and control because the production model changes in real-time according to its data feed.\t|Easier to implement because offline learning provides engineers with more time to perfect the model before deployment.\n",
        "Applications|\tUsed in applications where new data patterns are constantly required (e.g., weather prediction tools)\t|Used in applications where data patterns remain constant and don’t have sudden concept drifts (e.g., image classification)"
      ],
      "metadata": {
        "id": "gQNxqF8Hidqe"
      }
    },
    {
      "cell_type": "markdown",
      "source": [
        "#### instance-based versus model-based learning\n",
        "\n",
        "|Model Based Machine Learning|\tInstance Based Learning|\n",
        "|---------------------------|---------------------------|\n",
        "Prepare the data for model training|\tPrepare the data for model training. No difference here\n",
        "Train model from training data to estimate model parameters i.e. discover patterns\t|Do not train model. Pattern discovery postponed until scoring query received\n",
        "Store the model in suitable form\t|There is no model to store\n",
        "Generalize the rules in form of model, even before scoring instance is seen|\tNo generalization before scoring. Only generalize for each scoring instance individually as and when seen\n",
        "Predict for unseen scoring instance using model|\tPredict for unseen scoring instance using training data directly\n",
        "Can throw away input/training data after model training\t|Input/training data must be kept since each query uses part or full set of training observations\n",
        "Requires a known model form\t|May not have explicit model form\n",
        "Storing models generally requires less storage\t|Storing training data generally requires more storage\n",
        "Scoring for new instance is generally fast|\tStoring for new instance may be slow"
      ],
      "metadata": {
        "id": "G0Gwek7ni0ew"
      }
    },
    {
      "cell_type": "markdown",
      "source": [
        "### Main Challenges of Machine Learning"
      ],
      "metadata": {
        "id": "CkmkAWgOi2Ws"
      }
    },
    {
      "cell_type": "markdown",
      "source": [
        "#### Insufficient Quantity of Training Data\n",
        "\n",
        "* For a toddler to learn what an apple is, all it takes is for you to point to an apple and\n",
        "say “apple” (possibly repeating this procedure a few times). Now the child is able to\n",
        "recognize apples in all sorts of colors and shapes. Genius.\n",
        "\n",
        "* Machine Learning is not quite there yet; it takes a lot of data for most Machine Learn‐\n",
        "ing algorithms to work properly\n",
        "\n"
      ],
      "metadata": {
        "id": "GRgINsoDjQ0M"
      }
    },
    {
      "cell_type": "markdown",
      "source": [
        "#### Nonrepresentative Training Data"
      ],
      "metadata": {
        "id": "zj5pV782lYpI"
      }
    },
    {
      "cell_type": "markdown",
      "source": [
        "Let's say we want to train a machine learning model to classify whether an email is spam or not. We gather a dataset of 1,000 emails, out of which 900 are non-spam and 100 are spam. However, the dataset is nonrepresentative because the 100 spam emails are all from a particular spam campaign promoting a certain product, while the non-spam emails cover a wide range of topics."
      ],
      "metadata": {
        "id": "_vHSqq3aljnT"
      }
    },
    {
      "cell_type": "markdown",
      "source": [
        "Note :\n",
        "\n",
        "Sampling Bias is a great example of this."
      ],
      "metadata": {
        "id": "ea9jdsa6nrM0"
      }
    },
    {
      "cell_type": "markdown",
      "source": [
        "#### Poor-Quality Data"
      ],
      "metadata": {
        "id": "Y3-XkKqbn3AG"
      }
    },
    {
      "cell_type": "markdown",
      "source": [
        "* If some instances are missing a few features (e.g., 5% of your customers did not\n",
        "specify their age), you must decide whether you want to ignore this attribute alto‐\n",
        "gether, ignore these instances, fill in the missing values (e.g., with the median\n",
        "age), or train one model with the feature and one model without it, and so on.\n"
      ],
      "metadata": {
        "id": "TTrvhauuoJdr"
      }
    },
    {
      "cell_type": "markdown",
      "source": [
        "#### Irrelevant Features"
      ],
      "metadata": {
        "id": "tFhsb9JZoQGR"
      }
    },
    {
      "cell_type": "markdown",
      "source": [
        "* Feature selection: selecting the most useful features to train on among existing\n",
        "features.\n",
        "* Feature extraction: combining existing features to produce a more useful one (as\n",
        "we saw earlier, dimensionality reduction algorithms can help).\n",
        "* Creating new features by gathering new data."
      ],
      "metadata": {
        "id": "ftu3uEUvoTJK"
      }
    },
    {
      "cell_type": "markdown",
      "source": [
        "#### Overftting the Training Data"
      ],
      "metadata": {
        "id": "p8uLCU_co8RQ"
      }
    },
    {
      "cell_type": "markdown",
      "source": [
        "Say you are visiting a foreign country and the taxi driver rips you off. You might be\n",
        "tempted to say that all taxi drivers in that country are thieves.\n",
        "\n",
        "* Unfortunately machines can fall into\n",
        "the same trap if we are not careful."
      ],
      "metadata": {
        "id": "KpQ26eVNpZBF"
      }
    },
    {
      "cell_type": "markdown",
      "source": [
        "Note :\n",
        "\n",
        "Constraining a model to make it simpler and reduce the risk of overfitting is called\n",
        "regularization.\n",
        "\n",
        " Example: the linear model we defined earlier has two parameters,\n",
        "θ0\n",
        " and θ1\n",
        ". This gives the learning algorithm two degrees of freedom to adapt the model\n",
        "to the training data: it can tweak both the height (θ0\n",
        ") and the slope (θ1\n",
        ") of the line. If\n",
        "we forced θ1\n",
        " = 0, the algorithm would have only one degree of freedom and would\n",
        "have a much harder time fitting the data properly"
      ],
      "metadata": {
        "id": "HVU68bGopqfI"
      }
    },
    {
      "cell_type": "markdown",
      "source": [
        "#### Underftting the Training Data"
      ],
      "metadata": {
        "id": "bgdUyu5xq2BD"
      }
    },
    {
      "cell_type": "markdown",
      "source": [
        "It occurs when your\n",
        "model is too simple to learn the underlying structure of the data."
      ],
      "metadata": {
        "id": "qrUdJ7sRq9jQ"
      }
    },
    {
      "cell_type": "markdown",
      "source": [
        "The main options to fix this problem are:\n",
        "\n",
        "* Selecting a more powerful model, with more parameters\n",
        "* Feeding better features to the learning algorithm (feature engineering)\n",
        "* Reducing the constraints on the model (e.g., reducing the regularization hyper‐\n",
        "parameter)"
      ],
      "metadata": {
        "id": "OtLeWsP8rRlE"
      }
    },
    {
      "cell_type": "markdown",
      "source": [
        "#### Stepping Back"
      ],
      "metadata": {
        "id": "Bgv5MFc0rhDS"
      }
    },
    {
      "cell_type": "markdown",
      "source": [
        "Let's say you are working on a machine learning project to predict housing prices based on various features such as size, location, and number of bedrooms. You initially choose a complex deep learning model that requires a large amount of labeled data to train effectively. However, you soon realize that obtaining a sufficient amount of labeled housing data is difficult and time-consuming.\n",
        "\n",
        "* n this scenario, you decide to step back and reevaluate your approach. Instead of using a complex deep learning model, you decide to explore other machine learning algorithms that can work well with smaller datasets."
      ],
      "metadata": {
        "id": "xcXo8t00sMmX"
      }
    },
    {
      "cell_type": "markdown",
      "source": [
        "#### Testing and Validating"
      ],
      "metadata": {
        "id": "yk-sv9Y2sUYg"
      }
    },
    {
      "cell_type": "markdown",
      "source": [
        "A better option is to split your data into two sets: the training set and the test set. As\n",
        "these names imply, you train your model using the training set, and you test it using\n",
        "the test set.\n",
        "\n",
        "* The error rate on new cases is called the generalization error (or out-of sample error), and by evaluating your model on the test set, you get an estimate of this\n",
        "error."
      ],
      "metadata": {
        "id": "u_4QV_uhsa9s"
      }
    },
    {
      "cell_type": "markdown",
      "source": [
        "#### Hyperparameter Tuning and Model Selection"
      ],
      "metadata": {
        "id": "9NGJJ5AwtHIG"
      }
    },
    {
      "cell_type": "markdown",
      "source": [
        "Let's say you are working on a classification problem where you want to predict whether an online transaction is fraudulent or legitimate. You decide to use a random forest algorithm for this task. However, the random forest algorithm has several hyperparameters that need to be tuned for optimal performance.\n",
        "\n",
        "* First, you split your labeled dataset into training and validation sets. You then train multiple random forest models with different combinations of hyperparameters. For example, you vary the number of trees in the forest, the maximum depth of each tree, and the minimum number of samples required to split a node.\n",
        "\n",
        "* After training these models, you evaluate their performance using the validation set. You calculate metrics such as accuracy, precision, recall, and F1 score to assess how well each model is performing. Based on the results, you compare the performance of different models and select the one that achieves the highest accuracy or the best balance between different evaluation metrics."
      ],
      "metadata": {
        "id": "hLIKxFH_tMlc"
      }
    },
    {
      "cell_type": "markdown",
      "source": [
        "#### Data Mismatch\n"
      ],
      "metadata": {
        "id": "AbYTN5EwuaM_"
      }
    },
    {
      "cell_type": "markdown",
      "source": [
        "Let's say you are working on a machine learning project to predict customer churn for a subscription-based service. You gather a dataset of customer information, including features such as age, subscription length, and activity level. However, you realize that the dataset you have collected is not representative of the current customer base.\n",
        "\n",
        "* Upon further investigation, you find that the data was collected from a specific region during a limited time period when the service was relatively new. Since then, the service has expanded to different regions and attracted a more diverse customer base.\n",
        "\n",
        "* In this case, data mismatch occurs because the collected dataset does not accurately reflect the characteristics and behavior of the current customer base. The customers from different regions and with varying usage patterns may exhibit different churn behaviors, making the model trained on the mismatched data less effective in predicting churn accurately."
      ],
      "metadata": {
        "id": "yJ1NedI0ueFl"
      }
    },
    {
      "cell_type": "markdown",
      "source": [],
      "metadata": {
        "id": "-pYA3vxSvQVB"
      }
    }
  ]
}